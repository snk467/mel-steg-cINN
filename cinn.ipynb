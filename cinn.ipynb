{
 "cells": [
  {
   "cell_type": "code",
   "execution_count": null,
   "metadata": {
    "execution": {
     "iopub.execute_input": "2022-10-20T20:48:08.938895Z",
     "iopub.status.busy": "2022-10-20T20:48:08.938474Z",
     "iopub.status.idle": "2022-10-20T20:48:12.525831Z",
     "shell.execute_reply": "2022-10-20T20:48:12.525078Z",
     "shell.execute_reply.started": "2022-10-20T20:48:08.938793Z"
    }
   },
   "outputs": [],
   "source": [
    "!cd /notebooks/mel-steg-cINN\n",
    "%pip install -r requirements_gradient.txt"
   ]
  },
  {
   "cell_type": "code",
   "execution_count": null,
   "metadata": {
    "execution": {
     "iopub.execute_input": "2022-10-20T20:48:12.527443Z",
     "iopub.status.busy": "2022-10-20T20:48:12.527282Z",
     "iopub.status.idle": "2022-10-20T20:56:54.529844Z",
     "shell.execute_reply": "2022-10-20T20:56:54.528866Z",
     "shell.execute_reply.started": "2022-10-20T20:48:12.527422Z"
    }
   },
   "outputs": [],
   "source": [
    "import train_cINN\n",
    "import logger\n",
    "from config import config\n",
    "\n",
    "debug = False\n",
    "\n",
    "if debug:\n",
    "    logger.enable_debug_mode()\n",
    "\n",
    "train_cINN.run(config.cinn_training)"
   ]
  }
 ],
 "metadata": {
  "kernelspec": {
   "display_name": "Python 3 (ipykernel)",
   "language": "python",
   "name": "python3"
  },
  "language_info": {
   "codemirror_mode": {
    "name": "ipython",
    "version": 3
   },
   "file_extension": ".py",
   "mimetype": "text/x-python",
   "name": "python",
   "nbconvert_exporter": "python",
   "pygments_lexer": "ipython3",
   "version": "3.10.4"
  },
  "vscode": {
   "interpreter": {
    "hash": "a6e6cb69a2f3dc609e34f2b435c7a95cdfa6bffb93c8b24d5c9b59757029a700"
   }
  }
 },
 "nbformat": 4,
 "nbformat_minor": 4
}
