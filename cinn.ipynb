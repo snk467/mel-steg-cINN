{
 "cells": [
  {
   "cell_type": "code",
   "execution_count": null,
   "metadata": {},
   "outputs": [],
   "source": [
    "!cd /notebooks/mel-steg-cINN\n",
    "!pip install -r requirements_gradient.txt\n",
    "\n",
    "%load_ext autoreload"
   ]
  },
  {
   "cell_type": "code",
   "execution_count": 1,
   "metadata": {},
   "outputs": [
    {
     "name": "stderr",
     "output_type": "stream",
     "text": [
      "[2022-10-20 21:14:44,360] INFO [datasets:36] Train dataset size: 18\n",
      "[2022-10-20 21:14:44,361] INFO [datasets:38] Validation dataset size: 2\n"
     ]
    },
    {
     "name": "stdout",
     "output_type": "stream",
     "text": [
      "EPOCH: 0\n",
      "\tBATCH: 0\n",
      "\tBATCH: 1\n",
      "\tBATCH: 2\n",
      "\tBATCH: 3\n",
      "\tBATCH: 4\n",
      "\tBATCH: 5\n",
      "\tBATCH: 6\n",
      "\tBATCH: 7\n",
      "\tBATCH: 8\n",
      "\tLOSS:  [0.19209548 0.        ]\n",
      "EPOCH: 1\n",
      "\tBATCH: 0\n",
      "\tBATCH: 1\n",
      "\tBATCH: 2\n",
      "\tBATCH: 3\n",
      "\tBATCH: 4\n",
      "\tBATCH: 5\n",
      "\tBATCH: 6\n",
      "\tBATCH: 7\n",
      "\tBATCH: 8\n",
      "\tLOSS:  [-0.22740458  0.        ]\n",
      "VALIDATION:\n",
      "\tValidation batch:\n",
      "L shape: torch.Size([1, 512, 512])\n",
      "ab shape: torch.Size([2, 512, 512])\n",
      "Label: ('melspectrogram_00000',)\n",
      "torch.Size([1, 256, 64, 64])\n",
      "torch.Size([1, 512])\n",
      "===\n",
      "torch.Size([1, 2, 64, 64])\n",
      "torch.Size([1])\n",
      "L shape: torch.Size([1, 512, 512])\n",
      "ab shape: torch.Size([2, 512, 512])\n",
      "Label: ('melspectrogram_00000',)\n"
     ]
    }
   ],
   "source": [
    "# %autoreload 2\n",
    "\n",
    "import train_colorization_cINN\n",
    "\n",
    "train_colorization_cINN.run_cinn_training()"
   ]
  }
 ],
 "metadata": {
  "kernelspec": {
   "display_name": "Python 3.10.4 ('mel-steg-cINN-env')",
   "language": "python",
   "name": "python3"
  },
  "language_info": {
   "codemirror_mode": {
    "name": "ipython",
    "version": 3
   },
   "file_extension": ".py",
   "mimetype": "text/x-python",
   "name": "python",
   "nbconvert_exporter": "python",
   "pygments_lexer": "ipython3",
   "version": "3.10.4"
  },
  "orig_nbformat": 4,
  "vscode": {
   "interpreter": {
    "hash": "a6e6cb69a2f3dc609e34f2b435c7a95cdfa6bffb93c8b24d5c9b59757029a700"
   }
  }
 },
 "nbformat": 4,
 "nbformat_minor": 2
}
